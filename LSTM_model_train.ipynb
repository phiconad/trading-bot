{
 "cells": [
  {
   "cell_type": "markdown",
   "metadata": {},
   "source": [
    "# Building LSTM for price prediction"
   ]
  },
  {
   "cell_type": "code",
   "execution_count": 121,
   "metadata": {},
   "outputs": [],
   "source": [
    "import json\n",
    "import numpy as np\n",
    "import pandas as pd\n",
    "import matplotlib.pyplot as plt\n",
    "from tensorflow.keras import models, layers, optimizers"
   ]
  },
  {
   "cell_type": "code",
   "execution_count": 2,
   "metadata": {},
   "outputs": [],
   "source": [
    "btcusdt_data_loc = \"/Users/thomasschafer/Documents/Programming/Python/Trading CSVs/BTCUSDT_historial_binance_2018-01-01_to_2020-11-27.csv\"\n",
    "btcusdt_df = pd.read_csv(btcusdt_data_loc)"
   ]
  },
  {
   "cell_type": "code",
   "execution_count": 3,
   "metadata": {},
   "outputs": [],
   "source": [
    "mins_in_advance_to_predict = 30\n",
    "window_length = 120\n",
    "\n",
    "float_data = btcusdt_df['close'].values"
   ]
  },
  {
   "cell_type": "markdown",
   "metadata": {},
   "source": [
    "### Preprocessing data"
   ]
  },
  {
   "cell_type": "code",
   "execution_count": 12,
   "metadata": {},
   "outputs": [],
   "source": [
    "def format_data(data_in, mins_in_advance_to_predict, window_length):\n",
    "    \n",
    "    num_data_points = (len(data_in)-mins_in_advance_to_predict)//window_length\n",
    "    \n",
    "    X = [data_in[window_length*i : window_length*(i+1)]\n",
    "                    for i in range(num_data_points)]\n",
    "    Y = [data_in[window_length*(i+1) + mins_in_advance_to_predict] for i in range(num_data_points)]\n",
    "    \n",
    "    X_normalised, Y_normalised, means = [], [], []\n",
    "    \n",
    "    for i in range(num_data_points):\n",
    "        X_i = np.array(X[i])\n",
    "        X_i_mean = X_i.mean()\n",
    "        \n",
    "        # Dividing by mean of x[i]\n",
    "        X_normalised.append(X_i/X_i_mean)\n",
    "        Y_normalised.append(Y[i]/X_i_mean)\n",
    "        \n",
    "        # Saving the means for later use\n",
    "        means.append(X_i_mean)\n",
    "    \n",
    "    X_normalised = np.array(X_normalised)\n",
    "    X_normalised = X_normalised.reshape(*X_normalised.shape, 1)\n",
    "    \n",
    "    Y_normalised = np.array(Y_normalised)\n",
    "    Y_normalised = Y_normalised.reshape(*Y_normalised.shape, 1)\n",
    "    \n",
    "    means = np.array(means)\n",
    "    \n",
    "    return X_normalised, Y_normalised, means\n",
    "\n",
    "# Formatting and shuffling data\n",
    "X_chronological, Y_chronological, means = format_data(float_data, mins_in_advance_to_predict, window_length)\n",
    "\n",
    "shuffle_array = np.arange(len(X_chronological))\n",
    "np.random.shuffle(shuffle_array)\n",
    "\n",
    "X_shuffled = X_chronological[shuffle_array]\n",
    "Y_shuffled = Y_chronological[shuffle_array]\n",
    "means_shuffled = means[shuffle_array]\n",
    "\n",
    "# To keep track of the data, if we want to refer back later\n",
    "time_ints_shuffled = np.arange(len(float_data))[shuffle_array]"
   ]
  },
  {
   "cell_type": "code",
   "execution_count": 37,
   "metadata": {},
   "outputs": [],
   "source": [
    "test_split = 0.1\n",
    "data_split_point = int(len(X_shuffled)*(1-test_split))\n",
    "\n",
    "X_train = X_shuffled[:data_split_point].copy()\n",
    "Y_train = Y_shuffled[:data_split_point].copy()\n",
    "means_train = means_shuffled[:data_split_point].copy()\n",
    "\n",
    "X_test = X_shuffled[data_split_point:].copy()\n",
    "Y_test = Y_shuffled[data_split_point:].copy()\n",
    "means_test = means_shuffled[data_split_point:].copy()"
   ]
  },
  {
   "cell_type": "markdown",
   "metadata": {},
   "source": [
    "### Training"
   ]
  },
  {
   "cell_type": "code",
   "execution_count": 181,
   "metadata": {},
   "outputs": [
    {
     "name": "stdout",
     "output_type": "stream",
     "text": [
      "Epoch 1/10\n",
      "322/322 [==============================] - 131s 406ms/step - loss: 0.0071 - val_loss: 2.7745e-04\n",
      "Epoch 2/10\n",
      "322/322 [==============================] - 119s 369ms/step - loss: 4.2780e-04 - val_loss: 1.5239e-04\n",
      "Epoch 3/10\n",
      "322/322 [==============================] - 117s 363ms/step - loss: 2.4857e-04 - val_loss: 1.0785e-04\n",
      "Epoch 4/10\n",
      "322/322 [==============================] - 118s 366ms/step - loss: 1.7116e-04 - val_loss: 1.0149e-04\n",
      "Epoch 5/10\n",
      "322/322 [==============================] - 115s 356ms/step - loss: 1.3772e-04 - val_loss: 1.2477e-04\n",
      "Epoch 6/10\n",
      "322/322 [==============================] - 115s 358ms/step - loss: 1.2053e-04 - val_loss: 2.2294e-04\n",
      "Epoch 7/10\n",
      "322/322 [==============================] - 115s 358ms/step - loss: 1.1018e-04 - val_loss: 1.0188e-04\n",
      "Epoch 8/10\n",
      "322/322 [==============================] - 115s 358ms/step - loss: 1.1315e-04 - val_loss: 4.5205e-04\n",
      "Epoch 9/10\n",
      "322/322 [==============================] - 112s 348ms/step - loss: 1.1263e-04 - val_loss: 1.5044e-04\n",
      "Epoch 10/10\n",
      "322/322 [==============================] - 111s 345ms/step - loss: 1.0793e-04 - val_loss: 1.0573e-04\n"
     ]
    }
   ],
   "source": [
    "def build_model():\n",
    "    model = models.Sequential()\n",
    "    model.add(layers.LSTM(units = 64,\n",
    "                          return_sequences = True,\n",
    "                          dropout = 0.1,\n",
    "                          recurrent_dropout=0.2,\n",
    "                          input_shape = X_train.shape[1:]))\n",
    "    model.add(layers.LSTM(units = 128,\n",
    "                          return_sequences = True,\n",
    "                          dropout = 0.1,\n",
    "                          recurrent_dropout=0.2\n",
    "                         ))\n",
    "    model.add(layers.LSTM(units = 64,\n",
    "                          return_sequences = True,\n",
    "                          dropout = 0.1,\n",
    "                          recurrent_dropout=0.2\n",
    "                         ))\n",
    "    model.add(layers.LSTM(units = 32,\n",
    "                          dropout = 0.1,\n",
    "                          recurrent_dropout=0.2\n",
    "                         ))\n",
    "    model.add(layers.Dense(units = 1))\n",
    "\n",
    "    model.compile(optimizer = 'adam', loss = 'mean_squared_error')\n",
    "    \n",
    "    return model\n",
    "\n",
    "model = build_model()\n",
    "\n",
    "history = model.fit(X_train, Y_train, epochs = 3, batch_size = 32, validation_split=0.1)"
   ]
  },
  {
   "cell_type": "code",
   "execution_count": 182,
   "metadata": {},
   "outputs": [
    {
     "data": {
      "image/png": "[encoded data removed]",
      "text/plain": [
       "<Figure size 720x432 with 1 Axes>"
      ]
     },
     "metadata": {
      "needs_background": "light"
     },
     "output_type": "display_data"
    }
   ],
   "source": [
    "plt.figure(figsize=(10, 6))\n",
    "plt.plot(history.history['loss'], label='loss')\n",
    "plt.plot(history.history['val_loss'], 'g--', label='val_loss')\n",
    "plt.yscale('log')\n",
    "plt.legend()\n",
    "plt.show()"
   ]
  },
  {
   "cell_type": "code",
   "execution_count": 22,
   "metadata": {},
   "outputs": [
    {
     "data": {
      "image/png": "[encoded data removed]",
      "text/plain": [
       "<Figure size 720x432 with 1 Axes>"
      ]
     },
     "metadata": {
      "needs_background": "light"
     },
     "output_type": "display_data"
    }
   ],
   "source": [
    "plt.figure(figsize=(10, 6))\n",
    "plt.plot(history.history['loss'], label='loss')\n",
    "plt.plot(history.history['val_loss'], 'g--', label='val_loss')\n",
    "plt.yscale('log')\n",
    "plt.legend()\n",
    "plt.show()"
   ]
  },
  {
   "cell_type": "markdown",
   "metadata": {},
   "source": [
    "### Saving model"
   ]
  },
  {
   "cell_type": "code",
   "execution_count": 183,
   "metadata": {},
   "outputs": [
    {
     "name": "stdout",
     "output_type": "stream",
     "text": [
      "INFO:tensorflow:Assets written to: /Users/thomasschafer/Documents/Programming/Python/models/LSTM/model_save/assets\n"
     ]
    }
   ],
   "source": [
    "model.save(\"/Users/thomasschafer/Documents/Programming/Python/models/LSTM/model_save\")"
   ]
  }
 ],
 "metadata": {
  "kernelspec": {
   "display_name": "Python 3",
   "language": "python",
   "name": "python3"
  },
  "language_info": {
   "codemirror_mode": {
    "name": "ipython",
    "version": 3
   },
   "file_extension": ".py",
   "mimetype": "text/x-python",
   "name": "python",
   "nbconvert_exporter": "python",
   "pygments_lexer": "ipython3",
   "version": "3.7.4"
  }
 },
 "nbformat": 4,
 "nbformat_minor": 2
}
