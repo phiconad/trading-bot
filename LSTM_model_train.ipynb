{
 "cells": [
  {
   "cell_type": "markdown",
   "metadata": {},
   "source": [
    "# Building an LSTM model for price prediction"
   ]
  },
  {
   "cell_type": "code",
   "execution_count": 1,
   "metadata": {},
   "outputs": [],
   "source": [
    "import numpy as np\n",
    "import pandas as pd\n",
    "import matplotlib.pyplot as plt\n",
    "from tensorflow.keras import models, layers, optimizers"
   ]
  },
  {
   "cell_type": "code",
   "execution_count": 2,
   "metadata": {},
   "outputs": [],
   "source": [
    "# Importing historical data downloaded from the Binance API\n",
    "btcusdt_data_loc = \"../Trading CSVs/BTCUSDT_historial_binance_2018-01-01_to_2020-11-27.csv\"\n",
    "btcusdt_df = pd.read_csv(btcusdt_data_loc)"
   ]
  },
  {
   "cell_type": "code",
   "execution_count": 3,
   "metadata": {},
   "outputs": [],
   "source": [
    "mins_in_advance_to_predict = 30\n",
    "window_length = 120\n",
    "\n",
    "float_data = btcusdt_df['close'].values"
   ]
  },
  {
   "cell_type": "markdown",
   "metadata": {},
   "source": [
    "### Preprocessing data"
   ]
  },
  {
   "cell_type": "code",
   "execution_count": 4,
   "metadata": {},
   "outputs": [],
   "source": [
    "def format_data(data_in, mins_in_advance_to_predict, window_length):\n",
    "    \n",
    "    num_data_points = (len(data_in)-mins_in_advance_to_predict)//window_length\n",
    "    \n",
    "    X = [data_in[window_length*i : window_length*(i+1)]\n",
    "                    for i in range(num_data_points)]\n",
    "    Y = [data_in[window_length*(i+1) + mins_in_advance_to_predict] for i in range(num_data_points)]\n",
    "    \n",
    "    X_normalised, Y_normalised, means = [], [], []\n",
    "    \n",
    "    for i in range(num_data_points):\n",
    "        X_i = np.array(X[i])\n",
    "        X_i_mean = X_i.mean()\n",
    "        \n",
    "        # Dividing by mean of x[i]\n",
    "        X_normalised.append(X_i/X_i_mean)\n",
    "        Y_normalised.append(Y[i]/X_i_mean)\n",
    "        \n",
    "        # Saving the means for later use\n",
    "        means.append(X_i_mean)\n",
    "    \n",
    "    X_normalised = np.array(X_normalised)\n",
    "    X_normalised = X_normalised.reshape(*X_normalised.shape, 1)\n",
    "    \n",
    "    Y_normalised = np.array(Y_normalised)\n",
    "    Y_normalised = Y_normalised.reshape(*Y_normalised.shape, 1)\n",
    "    \n",
    "    means = np.array(means)\n",
    "    \n",
    "    return X_normalised, Y_normalised, means"
   ]
  },
  {
   "cell_type": "code",
   "execution_count": 5,
   "metadata": {},
   "outputs": [],
   "source": [
    "# Formatting and shuffling data\n",
    "X_chronological, Y_chronological, means = format_data(float_data, mins_in_advance_to_predict, window_length)\n",
    "\n",
    "shuffle_array = np.arange(len(X_chronological))\n",
    "np.random.shuffle(shuffle_array)\n",
    "\n",
    "X_shuffled = X_chronological[shuffle_array]\n",
    "Y_shuffled = Y_chronological[shuffle_array]\n",
    "means_shuffled = means[shuffle_array]\n",
    "\n",
    "# To keep track of the data, if we want to refer back later\n",
    "time_ints_shuffled = np.arange(len(float_data))[shuffle_array]"
   ]
  },
  {
   "cell_type": "code",
   "execution_count": 6,
   "metadata": {},
   "outputs": [],
   "source": [
    "# Splitting into training and test data\n",
    "test_split = 0.1\n",
    "data_split_point = int(len(X_shuffled)*(1-test_split))\n",
    "\n",
    "X_train = X_shuffled[:data_split_point].copy()\n",
    "Y_train = Y_shuffled[:data_split_point].copy()\n",
    "means_train = means_shuffled[:data_split_point].copy()\n",
    "\n",
    "X_test = X_shuffled[data_split_point:].copy()\n",
    "Y_test = Y_shuffled[data_split_point:].copy()\n",
    "means_test = means_shuffled[data_split_point:].copy()"
   ]
  },
  {
   "cell_type": "markdown",
   "metadata": {},
   "source": [
    "### Training"
   ]
  },
  {
   "cell_type": "code",
   "execution_count": 7,
   "metadata": {},
   "outputs": [
    {
     "name": "stdout",
     "output_type": "stream",
     "text": [
      "Epoch 1/4\n",
      "322/322 [==============================] - 131s 408ms/step - loss: 0.0086 - val_loss: 7.9873e-05\n",
      "Epoch 2/4\n",
      "322/322 [==============================] - 126s 390ms/step - loss: 4.2833e-04 - val_loss: 1.0299e-04\n",
      "Epoch 3/4\n",
      "322/322 [==============================] - 124s 387ms/step - loss: 2.3692e-04 - val_loss: 2.4701e-04\n",
      "Epoch 4/4\n",
      "322/322 [==============================] - 119s 370ms/step - loss: 1.6219e-04 - val_loss: 8.1217e-05\n"
     ]
    }
   ],
   "source": [
    "def build_model():\n",
    "    model = models.Sequential()\n",
    "    model.add(layers.LSTM(units = 64,\n",
    "                          return_sequences = True,\n",
    "                          dropout = 0.1,\n",
    "                          recurrent_dropout=0.2,\n",
    "                          input_shape = X_train.shape[1:]))\n",
    "    model.add(layers.LSTM(units = 128,\n",
    "                          return_sequences = True,\n",
    "                          dropout = 0.1,\n",
    "                          recurrent_dropout=0.2\n",
    "                         ))\n",
    "    model.add(layers.LSTM(units = 64,\n",
    "                          return_sequences = True,\n",
    "                          dropout = 0.1,\n",
    "                          recurrent_dropout=0.2\n",
    "                         ))\n",
    "    model.add(layers.LSTM(units = 32,\n",
    "                          dropout = 0.1,\n",
    "                          recurrent_dropout=0.2\n",
    "                         ))\n",
    "    model.add(layers.Dense(units = 1))\n",
    "\n",
    "    model.compile(optimizer = 'adam', loss = 'mean_squared_error')\n",
    "    \n",
    "    return model\n",
    "\n",
    "model = build_model()\n",
    "\n",
    "history = model.fit(X_train, Y_train, epochs = 4, batch_size = 32, validation_split=0.1)"
   ]
  },
  {
   "cell_type": "code",
   "execution_count": 8,
   "metadata": {},
   "outputs": [
    {
     "data": {
      "image/png": "[encoded data removed]",
      "text/plain": [
       "<Figure size 720x432 with 1 Axes>"
      ]
     },
     "metadata": {
      "needs_background": "light"
     },
     "output_type": "display_data"
    }
   ],
   "source": [
    "plt.figure(figsize=(10, 6))\n",
    "plt.plot(history.history['loss'], label='loss')\n",
    "plt.plot(history.history['val_loss'], 'g--', label='val_loss')\n",
    "plt.yscale('log')\n",
    "plt.legend()\n",
    "plt.show()"
   ]
  },
  {
   "cell_type": "markdown",
   "metadata": {},
   "source": [
    "### Saving model"
   ]
  },
  {
   "cell_type": "code",
   "execution_count": 12,
   "metadata": {},
   "outputs": [],
   "source": [
    "model.save(\"../models/LSTM/model_save\")"
   ]
  }
 ],
 "metadata": {
  "kernelspec": {
   "display_name": "Python 3",
   "language": "python",
   "name": "python3"
  },
  "language_info": {
   "codemirror_mode": {
    "name": "ipython",
    "version": 3
   },
   "file_extension": ".py",
   "mimetype": "text/x-python",
   "name": "python",
   "nbconvert_exporter": "python",
   "pygments_lexer": "ipython3",
   "version": "3.7.4"
  }
 },
 "nbformat": 4,
 "nbformat_minor": 2
}