{
 "cells": [
  {
   "cell_type": "code",
   "execution_count": 1,
   "metadata": {},
   "outputs": [],
   "source": [
    "import numpy as np\n",
    "import pandas as pd\n",
    "import matplotlib.pyplot as plt\n",
    "import json\n",
    "from binance.client import Client\n",
    "from binance import enums\n",
    "import talib\n",
    "from datetime import datetime\n",
    "import time\n",
    "import sys\n",
    "import os\n",
    "\n",
    "from pandas.plotting import register_matplotlib_converters\n",
    "register_matplotlib_converters()\n",
    "\n",
    "from strategies import BasicLSTM"
   ]
  },
  {
   "cell_type": "markdown",
   "metadata": {},
   "source": [
    "# Backtesting"
   ]
  },
  {
   "cell_type": "code",
   "execution_count": 2,
   "metadata": {},
   "outputs": [],
   "source": [
    "btcusdt_df = pd.read_csv(\"/Users/thomasschafer/Documents/Programming/Python/Trading CSVs/BTCUSDT_historial_binance_2018-01-01_to_2020-11-27.csv\")\n",
    "\n",
    "# btcusdt_df = pd.read_csv(\"/Users/thomasschafer/Documents/Programming/Python/Trading CSVs/BTCUSDT_historial_binance_2020-11-28_to_2020-12-13.csv\")\n"
   ]
  },
  {
   "cell_type": "code",
   "execution_count": null,
   "metadata": {},
   "outputs": [],
   "source": [
    "def make_patch_spines_invisible(ax):\n",
    "    ax.set_frame_on(True)\n",
    "    ax.patch.set_visible(False)\n",
    "    for sp in ax.spines.values():\n",
    "        sp.set_visible(False)\n",
    "\n",
    "def triple_plot(closing_prices, buy_arr, sell_arr, volume, rsi):\n",
    "    x = np.arange(len(closing_prices))\n",
    "\n",
    "    fig, host = plt.subplots(figsize = (20, 10))\n",
    "    fig.subplots_adjust(right=0.75)\n",
    "\n",
    "    par1 = host.twinx()\n",
    "    par2 = host.twinx()\n",
    "    par2.spines[\"right\"].set_position((\"axes\", 1.05))\n",
    "    make_patch_spines_invisible(par2)\n",
    "    par2.spines[\"right\"].set_visible(True)\n",
    "\n",
    "    p1, = host.plot(x, buy_arr, 'g-', marker='o', ms=10, linewidth=3)\n",
    "    p1, = host.plot(x, sell_arr, 'r-', marker='o', ms=10, linewidth=3)\n",
    "    p1, = host.plot(x, closing_prices, c='gray', label=\"Closing price\")\n",
    "\n",
    "    p2, = par1.plot(x, rsi, '--', alpha=0.5, label=\"RSI\")\n",
    "    p3, = par2.plot(x, volume, '--', c='y', alpha=0.5, label=\"Volume\")\n",
    "\n",
    "    host.set_xlabel(\"Minutes\")\n",
    "    host.set_ylabel(\"Closing price\")\n",
    "    par1.set_ylabel(\"RSI\")\n",
    "    par2.set_ylabel(\"Volume\")\n",
    "\n",
    "    lines = [p1, p2, p3]\n",
    "\n",
    "    host.legend(lines, [l.get_label() for l in lines])\n",
    "    plt.show()"
   ]
  },
  {
   "cell_type": "code",
   "execution_count": null,
   "metadata": {},
   "outputs": [],
   "source": [
    "def backtest(df,\n",
    "             RSI_PERIOD, RSI_OVERBOUGHT, RSI_OVERSOLD, \n",
    "             TRADE_QUANTITY,\n",
    "             STOP_LOSS_THRESHOLD, STOP_LOSS_COOL_DOWN_MINS,\n",
    "             Strategy,\n",
    "             ASSET_1 = \"BTC\", ASSET_2 = \"USDT\",\n",
    "             start_idx=0, end_idx=-1):\n",
    "\n",
    "    print(\"Starting...\")\n",
    "    output_string = \"\"    \n",
    "    \n",
    "    in_long_position = False\n",
    "    last_buy_price = 0\n",
    "    \n",
    "    #***NEW:***\n",
    "    max_price_since_buy = 0\n",
    "    should_trigger_stop_loss = False\n",
    "\n",
    "    last_position_stop_triggered = -1000\n",
    "    closes_dict = {}\n",
    "    cur_closes_dict_len = len(closes_dict)\n",
    "\n",
    "    START_DATETIME = str(datetime.now())\n",
    "\n",
    "    TRADE_SYMBOL = ASSET_1 + ASSET_2\n",
    "\n",
    "    df = df.iloc[start_idx : end_idx]\n",
    "\n",
    "    closing_prices = df['close'].values\n",
    "    volume = df['volume'].values\n",
    "    rsi = talib.RSI(closing_prices)\n",
    "\n",
    "    SPREAD = 0.05/100\n",
    "    COMISSION = 0.075/100\n",
    "\n",
    "    buy_list = [None for __ in range(RSI_PERIOD+2)]\n",
    "    sell_list = [None for __ in range(RSI_PERIOD+2)]\n",
    "\n",
    "    balances = {ASSET_1: TRADE_QUANTITY*COMISSION*100,\n",
    "                ASSET_2: 100}\n",
    "\n",
    "    asset_2_price = 1\n",
    "    balances['Total USD'] = balances[ASSET_1]*closing_prices[0] + balances[ASSET_2]*asset_2_price\n",
    "    initial_balance_usd = balances['Total USD']\n",
    "\n",
    "    output_string += \"Initial balances:\" + str(balances) + \"\\n\"\n",
    "\n",
    "    start_time = time.time()\n",
    "    \n",
    "    for i in range(RSI_PERIOD+2, len(closing_prices)):\n",
    "        est_time_remaining = (time.time() - start_time)/max(1, (i-(RSI_PERIOD+2)))*(len(closing_prices)-i)\n",
    "        print(f\"Mins tested = {i} of {len(closing_prices)}.\",\n",
    "              f\"Estimated time remaining = {round(est_time_remaining, 1)} seconds.\",\n",
    "              end=\"\\r\")\n",
    "\n",
    "        should_sell = Strategy.should_sell(closing_prices[:i], in_long_position)\n",
    "        should_buy = Strategy.should_buy(closing_prices[:i], in_long_position)\n",
    "        \n",
    "#         should_trigger_stop_loss = (closing_prices[i] <= (1 - STOP_LOSS_THRESHOLD)*last_buy_price)\n",
    "        \n",
    "        #***NEW:***\n",
    "        if in_long_position:\n",
    "            max_price_since_buy = max(max_price_since_buy, closing_prices[i])\n",
    "            should_trigger_stop_loss = (closing_prices[i] <= (1 - STOP_LOSS_THRESHOLD)*max_price_since_buy)\n",
    "\n",
    "        if should_sell or (should_trigger_stop_loss and in_long_position):\n",
    "            balances[ASSET_1] -= TRADE_QUANTITY*(1+SPREAD/2)*(1+COMISSION)\n",
    "            balances[ASSET_2] += TRADE_QUANTITY*closing_prices[i]\n",
    "            balances['Total USD'] = balances[ASSET_1]*closing_prices[i] + balances[ASSET_2]*asset_2_price\n",
    "\n",
    "            in_long_position = False\n",
    "            output_string += f\"[{i}] Selling \"\n",
    "            if should_trigger_stop_loss:\n",
    "                last_position_stop_triggered = i\n",
    "                output_string += \"(stop loss triggered)\"\n",
    "            output_string += f\": current price = {closing_prices[i]}, \"\\\n",
    "                                + f\"previous price = {closing_prices[i-1]},  \" + str(balances) + \"\\n\"\n",
    "\n",
    "            in_long_position = False\n",
    "            \n",
    "            #***NEW:***\n",
    "            max_price_since_buy = 0\n",
    "            \n",
    "            sell_list.append(closing_prices[i])\n",
    "            buy_list.append(None)\n",
    "\n",
    "        elif should_buy and (i >= last_position_stop_triggered + STOP_LOSS_COOL_DOWN_MINS):\n",
    "            balances[ASSET_1] += TRADE_QUANTITY*(1-COMISSION)\n",
    "            balances[ASSET_2] -= TRADE_QUANTITY*closing_prices[i]*(1+SPREAD/2)\n",
    "            balances['Total USD'] = balances[ASSET_1]*closing_prices[i] + balances[ASSET_2]*asset_2_price\n",
    "            output_string += f\"[{i}] Buying: current price = {closing_prices[i]}, \"\\\n",
    "                                + f\"previous price = {closing_prices[i-1]},  \" + str(balances) + \"\\n\"\n",
    "\n",
    "            in_long_position = True\n",
    "            last_buy_price = closing_prices[i]\n",
    "            buy_list.append(closing_prices[i])\n",
    "            sell_list.append(None)\n",
    "\n",
    "        else:\n",
    "            sell_list.append(None)\n",
    "            buy_list.append(None)\n",
    "\n",
    "\n",
    "    output_string += \"\\nFinal balances: \" + str(balances) + \"\\n\"\n",
    "\n",
    "    final_balance_usd = balances['Total USD']\n",
    "    balance_change = final_balance_usd - initial_balance_usd\n",
    "    capital_risked = TRADE_QUANTITY*closing_prices[0]*asset_2_price\n",
    "    output_string = f\"Trades net change: {round(balance_change/capital_risked*100, 4)}%\\n\\n\"\\\n",
    "                    + f\"Buy and hold change: {round((closing_prices[-1]/closing_prices[0] - 1) * 100, 4)}%\\n\\n\"\\\n",
    "                    + output_string\n",
    "    buy_arr = np.array(buy_list)\n",
    "    sell_arr = np.array(sell_list)\n",
    "\n",
    "    triple_plot(closing_prices, buy_arr, sell_arr, volume, rsi)\n",
    "    \n",
    "    return output_string"
   ]
  },
  {
   "cell_type": "code",
   "execution_count": 3,
   "metadata": {},
   "outputs": [],
   "source": [
    "Strategy = BasicLSTM(\"/Users/thomasschafer/Documents/Programming/Python/models/LSTM/model_save\", 1)"
   ]
  },
  {
   "cell_type": "code",
   "execution_count": null,
   "metadata": {},
   "outputs": [],
   "source": [
    "df = btcusdt_df\n",
    "\n",
    "RSI_PERIOD = 14\n",
    "RSI_OVERBOUGHT = 70\n",
    "RSI_OVERSOLD = 30\n",
    "\n",
    "TRADE_QUANTITY = 0.001\n",
    "STOP_LOSS_THRESHOLD = 0.5/100\n",
    "STOP_LOSS_COOL_DOWN_MINS = 60\n",
    "\n",
    "start_idx = 9150 + 380 #21500\n",
    "end_idx = start_idx + 500 #start_idx + 1000\n",
    "\n",
    "results_str = backtest(df,\n",
    "                         RSI_PERIOD, RSI_OVERBOUGHT, RSI_OVERSOLD, \n",
    "                         TRADE_QUANTITY,\n",
    "                         STOP_LOSS_THRESHOLD, STOP_LOSS_COOL_DOWN_MINS,\n",
    "                         Strategy,\n",
    "                         start_idx = start_idx,\n",
    "                         end_idx = end_idx)\n",
    "\n",
    "print(\"\\n\".join(results_str.split(\"\\n\")[:3]))"
   ]
  },
  {
   "cell_type": "code",
   "execution_count": null,
   "metadata": {},
   "outputs": [],
   "source": [
    "print(results_str)"
   ]
  },
  {
   "cell_type": "code",
   "execution_count": null,
   "metadata": {},
   "outputs": [],
   "source": [
    "start = 1000000\n",
    "end = start + 20000\n",
    "\n",
    "data_temp = btcusdt_df.loc[start:end, 'close'].values\n",
    "\n",
    "actual_prices = []\n",
    "pred_prices = []\n",
    "x = []\n",
    "\n",
    "step = 30\n",
    "\n",
    "for i in range(121, len(data_temp), step):\n",
    "    prediction_i = Strategy.predict_30_min_price(data_temp[i-120:i])\n",
    "    pred_prices.append(prediction_i/data_temp[i])\n",
    "    actual_prices.append(data_temp[i])\n",
    "    x.append(start+i)\n",
    "    print(f\"{round(100*i/(end-start), 2)}%\", end=\"\\r\")\n",
    "    \n",
    "\n",
    "fig, ax1 = plt.subplots(figsize=(20, 10))\n",
    "ax1.plot(x, actual_prices)\n",
    "\n",
    "ax2 = ax1.twinx()\n",
    "ax2.plot(x, pred_prices, 'r--', alpha=0.4)\n",
    "ax2.grid(alpha=0.5)\n",
    "\n",
    "plt.show()"
   ]
  },
  {
   "cell_type": "code",
   "execution_count": null,
   "metadata": {},
   "outputs": [],
   "source": [
    "plt.figure(figsize=(20, 10))\n",
    "\n",
    "start = 9150 + 380 + 300 +38\n",
    "end = start + 100#start + 10510\n",
    "plt.plot(btcusdt_df.loc[start:end, 'close'].values)\n",
    "btcusdt_df.loc[start, 'close'], btcusdt_df.loc[end, 'close']"
   ]
  },
  {
   "cell_type": "code",
   "execution_count": 25,
   "metadata": {},
   "outputs": [
    {
     "name": "stdout",
     "output_type": "stream",
     "text": [
      "i: 689891\n",
      "Cur price: 5296.45\n",
      "Prediction: 5310.0537\n",
      "% change to prediction: 0.257%\n",
      "% change to actual: 0.089%\n",
      "Should sell: False\n",
      "Should buy: False\n"
     ]
    },
    {
     "data": {
      "image/png": "[encoded data removed]",
      "text/plain": [
       "<Figure size 1008x504 with 1 Axes>"
      ]
     },
     "metadata": {
      "needs_background": "light"
     },
     "output_type": "display_data"
    }
   ],
   "source": [
    "i = np.random.randint(len(btcusdt_df))\n",
    "i_arr.append(i)\n",
    "\n",
    "# i = 814773-75\n",
    "\n",
    "closes = btcusdt_df['close'].values[i:i+120]\n",
    "prediction = Strategy.predict_30_min_price(closes)\n",
    "correct = btcusdt_df['close'][i+150]\n",
    "\n",
    "plt.figure(figsize=(14, 7))\n",
    "\n",
    "plt.plot(btcusdt_df['close'][i: i+151].values, '--', c='green', alpha=0.5)\n",
    "plt.plot([None for __ in range(150)] + [correct], c='green', marker='o')\n",
    "plt.plot([None for __ in range(150)] + [prediction], c='red', marker='o')\n",
    "\n",
    "plt.plot(closes)\n",
    "\n",
    "\n",
    "print(f\"i: {i}\",\n",
    "        f\"Cur price: {closes[-1]}\",\n",
    "        f\"Prediction: {round(prediction, 4)}\",\n",
    "        f\"% change to prediction: {round(100*(prediction/closes[-1] - 1), 3)}%\",\n",
    "        f\"% change to actual: {round(100*(correct/closes[-1] - 1), 3)}%\",\n",
    "        f\"Should sell: {Strategy.should_sell(closes, True)}\",\n",
    "        f\"Should buy: {Strategy.should_buy(closes, False)}\",\n",
    "        sep=\"\\n\")\n"
   ]
  },
  {
   "cell_type": "markdown",
   "metadata": {},
   "source": [
    "### Testing new model"
   ]
  },
  {
   "cell_type": "code",
   "execution_count": 27,
   "metadata": {},
   "outputs": [
    {
     "data": {
      "text/plain": [
       "{True: 512, False: 488}"
      ]
     },
     "execution_count": 27,
     "metadata": {},
     "output_type": "execute_result"
    }
   ],
   "source": [
    "d = {True: 0, False: 0}\n",
    "\n",
    "for __ in range(1000):\n",
    "    i = np.random.randint(len(btcusdt_df))\n",
    "    i_arr.append(i)\n",
    "\n",
    "    closes = btcusdt_df['close'].values[i:i+120]\n",
    "    last_price = closes[-1]\n",
    "    \n",
    "    prediction = Strategy.predict_30_min_price(closes)\n",
    "    correct = btcusdt_df['close'][i+150]\n",
    "    \n",
    "    d[(correct >= last_price) == (prediction >= last_price)] += 1\n",
    "    \n",
    "d"
   ]
  }
 ],
 "metadata": {
  "kernelspec": {
   "display_name": "Python 3",
   "language": "python",
   "name": "python3"
  },
  "language_info": {
   "codemirror_mode": {
    "name": "ipython",
    "version": 3
   },
   "file_extension": ".py",
   "mimetype": "text/x-python",
   "name": "python",
   "nbconvert_exporter": "python",
   "pygments_lexer": "ipython3",
   "version": "3.7.4"
  }
 },
 "nbformat": 4,
 "nbformat_minor": 2
}
